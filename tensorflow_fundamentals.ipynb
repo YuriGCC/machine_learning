{
  "nbformat": 4,
  "nbformat_minor": 0,
  "metadata": {
    "colab": {
      "provenance": [],
      "collapsed_sections": [
        "JbpG4G34baXW",
        "mqL-XycubWX9"
      ],
      "toc_visible": true
    },
    "kernelspec": {
      "name": "python3",
      "display_name": "Python 3"
    },
    "language_info": {
      "name": "python"
    }
  },
  "cells": [
    {
      "cell_type": "markdown",
      "source": [
        "### What is a tensor?\n",
        "\n",
        "  A tensor consists of several feature vectors of a problem, nested within an organizational structure.\n",
        "  This structure may or may not have a hierarchical relationship between its dimensions. If it is hierarchical,\n",
        "  it means each layer further details the characteristics of the previous one. If it is not, it is simply for stacking\n",
        "  the information for access and processing.\n",
        "  "
      ],
      "metadata": {
        "id": "JbpG4G34baXW"
      }
    },
    {
      "cell_type": "code",
      "execution_count": 2,
      "metadata": {
        "id": "yacYh61gNG07"
      },
      "outputs": [],
      "source": [
        "import tensorflow as tf\n",
        "import matplotlib.pyplot as plt\n",
        "import tensorflow_probability as tfp"
      ]
    },
    {
      "cell_type": "markdown",
      "source": [
        "### Constant vetors"
      ],
      "metadata": {
        "id": "mqL-XycubWX9"
      }
    },
    {
      "cell_type": "code",
      "execution_count": null,
      "metadata": {
        "colab": {
          "base_uri": "https://localhost:8080/"
        },
        "outputId": "1bb6255a-895c-4e5a-ee50-00295ce93019",
        "id": "t8-jSQBiNwUz"
      },
      "outputs": [
        {
          "output_type": "execute_result",
          "data": {
            "text/plain": [
              "0"
            ]
          },
          "metadata": {},
          "execution_count": 9
        }
      ],
      "source": [
        "# Create a constant tensor\n",
        "scalar = tf.constant(7)\n",
        "scalar\n",
        "\n",
        "# Number of dimensions\n",
        "scalar.ndim"
      ]
    },
    {
      "cell_type": "code",
      "source": [
        "# Create a vector\n",
        "vector = tf.constant([10, 10])\n",
        "vector\n",
        "\n",
        "# Number of dimensions\n",
        "vector.ndim"
      ],
      "metadata": {
        "colab": {
          "base_uri": "https://localhost:8080/"
        },
        "id": "khFghpXYOIcv",
        "outputId": "38982524-9c7d-4eea-a7f6-ecaf08732c80"
      },
      "execution_count": null,
      "outputs": [
        {
          "output_type": "execute_result",
          "data": {
            "text/plain": [
              "1"
            ]
          },
          "metadata": {},
          "execution_count": 8
        }
      ]
    },
    {
      "cell_type": "code",
      "source": [
        "# Create a matrix\n",
        "matrix = tf.constant([\n",
        "    [10,7],\n",
        "    [7,10]\n",
        "])\n",
        "matrix\n",
        "\n",
        "# Number of dimensions\n",
        "matrix.ndim"
      ],
      "metadata": {
        "colab": {
          "base_uri": "https://localhost:8080/"
        },
        "id": "gvJXbccAOV0X",
        "outputId": "1af4f7ca-1cd5-4790-e10a-78f20141e32f"
      },
      "execution_count": null,
      "outputs": [
        {
          "output_type": "execute_result",
          "data": {
            "text/plain": [
              "2"
            ]
          },
          "metadata": {},
          "execution_count": 12
        }
      ]
    },
    {
      "cell_type": "code",
      "source": [
        "# Create a matrix with specified type\n",
        "float_matrix = tf.constant([\n",
        "    [2.,3.,],\n",
        "    [5.,6.,],\n",
        "    [8.,9.,]\n",
        "], dtype=tf.float16)\n",
        "\n",
        "float_matrix\n",
        "\n",
        "# Number of dimensions\n",
        "float_matrix.ndim"
      ],
      "metadata": {
        "colab": {
          "base_uri": "https://localhost:8080/"
        },
        "id": "XOyQN3ByO2GP",
        "outputId": "00a3c842-6610-48d4-ad53-d87aca1df3dd"
      },
      "execution_count": null,
      "outputs": [
        {
          "output_type": "execute_result",
          "data": {
            "text/plain": [
              "<tf.Tensor: shape=(3, 2), dtype=float16, numpy=\n",
              "array([[2., 3.],\n",
              "       [5., 6.],\n",
              "       [8., 9.]], dtype=float16)>"
            ]
          },
          "metadata": {},
          "execution_count": 18
        }
      ]
    },
    {
      "cell_type": "code",
      "source": [
        "# Create a tensor with 3 3x3 matrices\n",
        "tensor = tf.constant([\n",
        "    [[1,2,3],\n",
        "    [4,5,6]],\n",
        "\n",
        "    [[7,8,9],\n",
        "     [10,11,12]],\n",
        "\n",
        "     [[13,14,15],\n",
        "     [16,17,18]]\n",
        "])\n",
        "tensor\n",
        "\n",
        "# Number of dimensons\n",
        "tensor.ndim"
      ],
      "metadata": {
        "colab": {
          "base_uri": "https://localhost:8080/"
        },
        "id": "iYwvTGPoPeZV",
        "outputId": "e9c22b3c-6806-46df-f1fd-4d1668e95ac3"
      },
      "execution_count": null,
      "outputs": [
        {
          "output_type": "execute_result",
          "data": {
            "text/plain": [
              "3"
            ]
          },
          "metadata": {},
          "execution_count": 23
        }
      ]
    },
    {
      "cell_type": "code",
      "source": [],
      "metadata": {
        "id": "CDn3tM8Da6eR"
      },
      "execution_count": null,
      "outputs": []
    },
    {
      "cell_type": "markdown",
      "source": [
        "### Variable tensors"
      ],
      "metadata": {
        "id": "f8KaikFnbjNr"
      }
    },
    {
      "cell_type": "code",
      "source": [
        "changable_tensor = tf.Variable([10,7])\n",
        "unchangable_tensor = tf.constant([10,7])\n",
        "changable_tensor, unchangable_tensor"
      ],
      "metadata": {
        "colab": {
          "base_uri": "https://localhost:8080/"
        },
        "id": "YcQOsnMVbp1c",
        "outputId": "28e0094b-0019-4e61-bc30-8ee49b5f7a6c"
      },
      "execution_count": null,
      "outputs": [
        {
          "output_type": "execute_result",
          "data": {
            "text/plain": [
              "(<tf.Variable 'Variable:0' shape=(2,) dtype=int32, numpy=array([10,  7], dtype=int32)>,\n",
              " <tf.Tensor: shape=(2,), dtype=int32, numpy=array([10,  7], dtype=int32)>)"
            ]
          },
          "metadata": {},
          "execution_count": 27
        }
      ]
    },
    {
      "cell_type": "code",
      "source": [
        "# Modifying the constant tensor ( it is not possible because it is a constant)\n",
        "# unchangable_tensor[0] = 7 => TypeError: 'tensorflow.python.framework.ops.EagerTensor' object does not support item assignment\n",
        "unchangable_tensor[0].assign(7)\n"
      ],
      "metadata": {
        "colab": {
          "base_uri": "https://localhost:8080/",
          "height": 297
        },
        "outputId": "a9398608-30c4-4405-e71d-0ea4d14cd9c8",
        "id": "16N17Bt_dNH2"
      },
      "execution_count": null,
      "outputs": [
        {
          "output_type": "error",
          "ename": "AttributeError",
          "evalue": "'tensorflow.python.framework.ops.EagerTensor' object has no attribute 'assign'",
          "traceback": [
            "\u001b[0;31m---------------------------------------------------------------------------\u001b[0m",
            "\u001b[0;31mAttributeError\u001b[0m                            Traceback (most recent call last)",
            "\u001b[0;32m/tmp/ipython-input-31-1049016737.py\u001b[0m in \u001b[0;36m<cell line: 0>\u001b[0;34m()\u001b[0m\n\u001b[1;32m      1\u001b[0m \u001b[0;31m# Modifying the constant tensor\u001b[0m\u001b[0;34m\u001b[0m\u001b[0;34m\u001b[0m\u001b[0m\n\u001b[1;32m      2\u001b[0m \u001b[0;31m# unchangable_tensor[0] = 7 => TypeError: 'tensorflow.python.framework.ops.EagerTensor' object does not support item assignment\u001b[0m\u001b[0;34m\u001b[0m\u001b[0;34m\u001b[0m\u001b[0m\n\u001b[0;32m----> 3\u001b[0;31m \u001b[0munchangable_tensor\u001b[0m\u001b[0;34m[\u001b[0m\u001b[0;36m0\u001b[0m\u001b[0;34m]\u001b[0m\u001b[0;34m.\u001b[0m\u001b[0massign\u001b[0m\u001b[0;34m(\u001b[0m\u001b[0;36m7\u001b[0m\u001b[0;34m)\u001b[0m\u001b[0;34m\u001b[0m\u001b[0;34m\u001b[0m\u001b[0m\n\u001b[0m",
            "\u001b[0;32m/usr/local/lib/python3.11/dist-packages/tensorflow/python/framework/tensor.py\u001b[0m in \u001b[0;36m__getattr__\u001b[0;34m(self, name)\u001b[0m\n\u001b[1;32m    258\u001b[0m         \u001b[0mtf\u001b[0m\u001b[0;34m.\u001b[0m\u001b[0mexperimental\u001b[0m\u001b[0;34m.\u001b[0m\u001b[0mnumpy\u001b[0m\u001b[0;34m.\u001b[0m\u001b[0mexperimental_enable_numpy_behavior\u001b[0m\u001b[0;34m(\u001b[0m\u001b[0;34m)\u001b[0m\u001b[0;34m\u001b[0m\u001b[0;34m\u001b[0m\u001b[0m\n\u001b[1;32m    259\u001b[0m       \"\"\")\n\u001b[0;32m--> 260\u001b[0;31m     \u001b[0mself\u001b[0m\u001b[0;34m.\u001b[0m\u001b[0m__getattribute__\u001b[0m\u001b[0;34m(\u001b[0m\u001b[0mname\u001b[0m\u001b[0;34m)\u001b[0m\u001b[0;34m\u001b[0m\u001b[0;34m\u001b[0m\u001b[0m\n\u001b[0m\u001b[1;32m    261\u001b[0m \u001b[0;34m\u001b[0m\u001b[0m\n\u001b[1;32m    262\u001b[0m   \u001b[0;34m@\u001b[0m\u001b[0mproperty\u001b[0m\u001b[0;34m\u001b[0m\u001b[0;34m\u001b[0m\u001b[0m\n",
            "\u001b[0;31mAttributeError\u001b[0m: 'tensorflow.python.framework.ops.EagerTensor' object has no attribute 'assign'"
          ]
        }
      ]
    },
    {
      "cell_type": "code",
      "source": [
        "# Modifying the variable tensor ( it is not possible to reassign by indexing, ex: changable_tensor[0] = 7)\n",
        "changable_tensor[0].assign(7)\n"
      ],
      "metadata": {
        "colab": {
          "base_uri": "https://localhost:8080/"
        },
        "id": "xzUZq2B1cgsE",
        "outputId": "800d4178-7b8f-4862-899e-85003cbf2b6d"
      },
      "execution_count": null,
      "outputs": [
        {
          "output_type": "execute_result",
          "data": {
            "text/plain": [
              "<tf.Variable 'Variable:0' shape=(2,) dtype=int32, numpy=array([ 7, 10], dtype=int32)>"
            ]
          },
          "metadata": {},
          "execution_count": 29
        }
      ]
    },
    {
      "cell_type": "markdown",
      "source": [
        "### Random tensors"
      ],
      "metadata": {
        "id": "1ULJRgXrfA3H"
      }
    },
    {
      "cell_type": "code",
      "source": [
        "# The seed keeps the random result obtained\n",
        "random_tensor = tf.random.Generator.from_seed(42)\n",
        "random_tensor = random_tensor.normal(shape=(3,2))\n",
        "\n",
        "random_tensor2 = tf.random.Generator.from_seed(42)\n",
        "random_tensor2 = random_tensor2.normal(shape=(3,2))\n",
        "\n",
        "random_tensor == random_tensor2"
      ],
      "metadata": {
        "colab": {
          "base_uri": "https://localhost:8080/"
        },
        "id": "1nvFpeQ1gCok",
        "outputId": "3a0fb5ef-8150-45ab-8084-4cbc24e9091f"
      },
      "execution_count": null,
      "outputs": [
        {
          "output_type": "execute_result",
          "data": {
            "text/plain": [
              "<tf.Tensor: shape=(3, 2), dtype=bool, numpy=\n",
              "array([[ True,  True],\n",
              "       [ True,  True],\n",
              "       [ True,  True]])>"
            ]
          },
          "metadata": {},
          "execution_count": 19
        }
      ]
    },
    {
      "cell_type": "markdown",
      "source": [
        "### Shuffling the order of the tensors"
      ],
      "metadata": {
        "id": "CnVlSo_7p0oJ"
      }
    },
    {
      "cell_type": "code",
      "source": [
        "# Util to use when inherent order interfer in learning\n",
        "not_shuffled = tf.constant([\n",
        "    [10,7],\n",
        "    [3,4],\n",
        "    [2,5]\n",
        "])\n",
        "shuffled = tf.random.shuffle(not_shuffled)\n",
        "random_shuffle = tf.random.shuffle(not_shuffled)\n",
        "not_shuffled, shuffled, random_shuffle\n"
      ],
      "metadata": {
        "colab": {
          "base_uri": "https://localhost:8080/"
        },
        "id": "t1GogLXQqHmi",
        "outputId": "917adf46-90ab-4bda-b482-791916360277"
      },
      "execution_count": null,
      "outputs": [
        {
          "output_type": "execute_result",
          "data": {
            "text/plain": [
              "(<tf.Tensor: shape=(3, 2), dtype=int32, numpy=\n",
              " array([[10,  7],\n",
              "        [ 3,  4],\n",
              "        [ 2,  5]], dtype=int32)>,\n",
              " <tf.Tensor: shape=(3, 2), dtype=int32, numpy=\n",
              " array([[ 3,  4],\n",
              "        [ 2,  5],\n",
              "        [10,  7]], dtype=int32)>,\n",
              " <tf.Tensor: shape=(3, 2), dtype=int32, numpy=\n",
              " array([[ 3,  4],\n",
              "        [10,  7],\n",
              "        [ 2,  5]], dtype=int32)>)"
            ]
          },
          "metadata": {},
          "execution_count": 21
        }
      ]
    },
    {
      "cell_type": "code",
      "source": [
        "not_shuffled = tf.constant([\n",
        "    [10,7],\n",
        "    [3,4],\n",
        "    [2,5]\n",
        "])\n",
        "# The seed keeps the random result obtained here too\n",
        "random_shuffle = tf.random.shuffle(not_shuffled, seed=42)"
      ],
      "metadata": {
        "id": "zlPVnsCytp4G"
      },
      "execution_count": null,
      "outputs": []
    },
    {
      "cell_type": "markdown",
      "source": [
        "Some random seeds from tensorflow\n",
        "\n",
        "1.   \n",
        "https://www.tensorflow.org/probability/api_docs/python/tfp/distributions\n",
        "\n",
        "2.   \n",
        "https://www.tensorflow.org/probability/examples/TensorFlow_Distributions_Tutorial\n",
        "\n",
        "3.\n",
        "https://www.tensorflow.org/api_docs/python/tf/random/set_seed\n",
        "\n",
        "\n",
        "![representation of uniform, normal, binomial, poisson, exponencial and geometric distribution](https://miro.medium.com/v2/resize:fit:1400/1*dd3-HyJTY97-11lJIOMd9g.png)"
      ],
      "metadata": {
        "id": "hs6Q0rMBvS5E"
      }
    },
    {
      "cell_type": "code",
      "source": [
        "# Uniform distribution\n",
        "tf.random.uniform(shape=(3,3))"
      ],
      "metadata": {
        "colab": {
          "base_uri": "https://localhost:8080/"
        },
        "id": "PuaOgWwzwEFA",
        "outputId": "658383aa-9214-484a-e397-18e7860c08e5"
      },
      "execution_count": null,
      "outputs": [
        {
          "output_type": "execute_result",
          "data": {
            "text/plain": [
              "<tf.Tensor: shape=(3, 3), dtype=float32, numpy=\n",
              "array([[0.7945664 , 0.37971497, 0.8337512 ],\n",
              "       [0.86573696, 0.36209834, 0.3946886 ],\n",
              "       [0.27644753, 0.5655577 , 0.2294153 ]], dtype=float32)>"
            ]
          },
          "metadata": {},
          "execution_count": 23
        }
      ]
    },
    {
      "cell_type": "code",
      "source": [
        "# Normal distribution\n",
        "tf.random.normal(shape=(3,3))"
      ],
      "metadata": {
        "colab": {
          "base_uri": "https://localhost:8080/"
        },
        "id": "y8QIHVWRwUXh",
        "outputId": "16c5f79e-ca77-4a46-fc28-baa3d8c213a9"
      },
      "execution_count": null,
      "outputs": [
        {
          "output_type": "execute_result",
          "data": {
            "text/plain": [
              "<tf.Tensor: shape=(3, 3), dtype=float32, numpy=\n",
              "array([[-0.15753454, -1.6012067 , -0.35351112],\n",
              "       [-0.12750977, -1.6371781 , -0.40670383],\n",
              "       [-1.7137754 , -1.3810005 ,  1.5607347 ]], dtype=float32)>"
            ]
          },
          "metadata": {},
          "execution_count": 28
        }
      ]
    },
    {
      "cell_type": "code",
      "source": [
        "# Binomial distribution\n",
        "tfp.distributions.Binomial(total_count=10, probs=0.5).sample(sample_shape=(3, 3))"
      ],
      "metadata": {
        "colab": {
          "base_uri": "https://localhost:8080/"
        },
        "id": "Of-PYSMXwr6U",
        "outputId": "adf69694-b2d1-4191-9db6-bbebebdd5e39"
      },
      "execution_count": null,
      "outputs": [
        {
          "output_type": "execute_result",
          "data": {
            "text/plain": [
              "<tf.Tensor: shape=(3, 3), dtype=float32, numpy=\n",
              "array([[5., 6., 4.],\n",
              "       [3., 4., 4.],\n",
              "       [6., 4., 3.]], dtype=float32)>"
            ]
          },
          "metadata": {},
          "execution_count": 36
        }
      ]
    },
    {
      "cell_type": "code",
      "source": [
        "# Poisson distribution\n",
        "tfp.distributions.Poisson(rate=2.).sample(sample_shape=(3, 3))"
      ],
      "metadata": {
        "colab": {
          "base_uri": "https://localhost:8080/"
        },
        "id": "1W3U9ISwy2WV",
        "outputId": "4d8c0261-c3ad-4722-a25c-bc189a9db056"
      },
      "execution_count": null,
      "outputs": [
        {
          "output_type": "execute_result",
          "data": {
            "text/plain": [
              "<tf.Tensor: shape=(3, 3), dtype=float32, numpy=\n",
              "array([[6., 2., 1.],\n",
              "       [1., 2., 1.],\n",
              "       [3., 2., 3.]], dtype=float32)>"
            ]
          },
          "metadata": {},
          "execution_count": 37
        }
      ]
    },
    {
      "cell_type": "code",
      "source": [
        "# Exponensial distribution\n",
        "tfp.distributions.Exponential(rate=1.).sample(sample_shape=(3, 3))"
      ],
      "metadata": {
        "colab": {
          "base_uri": "https://localhost:8080/"
        },
        "id": "X54gOo8FyxY4",
        "outputId": "434642bc-a5d9-464e-a792-76374b09fd9a"
      },
      "execution_count": null,
      "outputs": [
        {
          "output_type": "execute_result",
          "data": {
            "text/plain": [
              "<tf.Tensor: shape=(3, 3), dtype=float32, numpy=\n",
              "array([[1.2153938 , 1.2352152 , 0.10821146],\n",
              "       [1.1070176 , 0.6632174 , 0.01751327],\n",
              "       [2.3916256 , 0.2325474 , 0.99352086]], dtype=float32)>"
            ]
          },
          "metadata": {},
          "execution_count": 38
        }
      ]
    },
    {
      "cell_type": "code",
      "source": [
        "# Geometric distribution\n",
        "tfp.distributions.Geometric(probs=0.5).sample(sample_shape=(3, 3))"
      ],
      "metadata": {
        "colab": {
          "base_uri": "https://localhost:8080/"
        },
        "id": "XyRHylwozUlm",
        "outputId": "ac3d9fed-b984-4b1b-e3f8-cba6f5c33a92"
      },
      "execution_count": null,
      "outputs": [
        {
          "output_type": "execute_result",
          "data": {
            "text/plain": [
              "<tf.Tensor: shape=(3, 3), dtype=float32, numpy=\n",
              "array([[2., 0., 0.],\n",
              "       [0., 2., 1.],\n",
              "       [0., 0., 0.]], dtype=float32)>"
            ]
          },
          "metadata": {},
          "execution_count": 39
        }
      ]
    },
    {
      "cell_type": "code",
      "source": [
        "# How the examples above look like\n",
        "\n",
        "tfd = tfp.distributions\n",
        "\n",
        "# Set a random seed for reproducibility\n",
        "tf.random.set_seed(42)\n",
        "\n",
        "# Sample shape\n",
        "shape = (3, 3)\n",
        "\n",
        "# Generate samples from each distribution\n",
        "samples = {\n",
        "    \"Geometric (p=0.5)\": tfd.Geometric(probs=0.5).sample(sample_shape=shape).numpy(),\n",
        "    \"Exponential (λ=1.0)\": tfd.Exponential(rate=1.0).sample(sample_shape=shape).numpy(),\n",
        "    \"Poisson (λ=2.0)\": tfd.Poisson(rate=2.0).sample(sample_shape=shape).numpy(),\n",
        "    \"Binomial (n=10, p=0.5)\": tfd.Binomial(total_count=10, probs=0.5).sample(sample_shape=shape).numpy(),\n",
        "    \"Normal (mean=0, stddev=1)\": tf.random.normal(shape=shape).numpy(),\n",
        "    \"Uniform (0, 1)\": tf.random.uniform(shape=shape).numpy(),\n",
        "}\n",
        "\n",
        "# Create the figure\n",
        "fig, axes = plt.subplots(2, 3, figsize=(15, 8))\n",
        "axes = axes.flatten()\n",
        "\n",
        "# Plot histograms\n",
        "for ax, (title, data) in zip(axes, samples.items()):\n",
        "    flat_data = data.flatten()\n",
        "    ax.hist(flat_data, bins=10, edgecolor='black', alpha=0.75)\n",
        "    ax.set_title(title)\n",
        "    ax.set_xlabel(\"Value\")\n",
        "    ax.set_ylabel(\"Frequency\")\n",
        "    ax.grid(True, linestyle='--', alpha=0.5)\n",
        "\n",
        "plt.tight_layout()\n",
        "plt.show()"
      ],
      "metadata": {
        "colab": {
          "base_uri": "https://localhost:8080/",
          "height": 516
        },
        "id": "38pjGJax1YuQ",
        "outputId": "c58873ff-4b58-468a-c0b9-2c9223c6c00e"
      },
      "execution_count": null,
      "outputs": [
        {
          "output_type": "display_data",
          "data": {
            "text/plain": [
              "<Figure size 1500x800 with 6 Axes>"
            ],
            "image/png": "[encoded data removed]"
          },
          "metadata": {}
        }
      ]
    },
    {
      "cell_type": "markdown",
      "source": [
        "### Create tensors from numpy arrays"
      ],
      "metadata": {
        "id": "LPFLimqTo1zm"
      }
    },
    {
      "cell_type": "code",
      "source": [
        "tf.ones(shape=(3,3))"
      ],
      "metadata": {
        "colab": {
          "base_uri": "https://localhost:8080/"
        },
        "id": "s5Zf-_oWo7Tn",
        "outputId": "aea92a6c-b55e-4f82-cf80-d9e54a7ffeb9"
      },
      "execution_count": 3,
      "outputs": [
        {
          "output_type": "execute_result",
          "data": {
            "text/plain": [
              "<tf.Tensor: shape=(3, 3), dtype=float32, numpy=\n",
              "array([[1., 1., 1.],\n",
              "       [1., 1., 1.],\n",
              "       [1., 1., 1.]], dtype=float32)>"
            ]
          },
          "metadata": {},
          "execution_count": 3
        }
      ]
    },
    {
      "cell_type": "code",
      "source": [
        "tf.zeros(shape=(3,3))"
      ],
      "metadata": {
        "colab": {
          "base_uri": "https://localhost:8080/"
        },
        "id": "JVm_L3aEqJI8",
        "outputId": "5d017b19-4e52-4c20-fcb4-76ee065324ad"
      },
      "execution_count": 4,
      "outputs": [
        {
          "output_type": "execute_result",
          "data": {
            "text/plain": [
              "<tf.Tensor: shape=(3, 3), dtype=float32, numpy=\n",
              "array([[0., 0., 0.],\n",
              "       [0., 0., 0.],\n",
              "       [0., 0., 0.]], dtype=float32)>"
            ]
          },
          "metadata": {},
          "execution_count": 4
        }
      ]
    },
    {
      "cell_type": "code",
      "source": [
        "# The main difference between Numpy arrays and Tensorflow tensors is that  tensors can be run on a GPU\n",
        "# ( much faster for numerical computing )\n",
        "\n",
        "import numpy as np\n",
        "\n",
        "numpy_A = np.arange(1,25, dtype=np.int32)\n",
        "numpy_A\n",
        "\n",
        "# X = tf.constant(some_matrix) # capital for matrix or tensor\n",
        "# y = tf.constant(vector) # non-capital for vector"
      ],
      "metadata": {
        "colab": {
          "base_uri": "https://localhost:8080/"
        },
        "id": "BLdZEjEOqRND",
        "outputId": "1bec2d2e-acd8-4516-f340-8bdde1f41b16"
      },
      "execution_count": 6,
      "outputs": [
        {
          "output_type": "execute_result",
          "data": {
            "text/plain": [
              "array([ 1,  2,  3,  4,  5,  6,  7,  8,  9, 10, 11, 12, 13, 14, 15, 16, 17,\n",
              "       18, 19, 20, 21, 22, 23, 24], dtype=int32)"
            ]
          },
          "metadata": {},
          "execution_count": 6
        }
      ]
    },
    {
      "cell_type": "code",
      "source": [
        "# Note that you can change the shape of the tensor, with the product of the dimensions equal to the number of elements\n",
        "A = tf.constant(numpy_A, shape=(2,3,4))\n",
        "B = tf.constant(numpy_A)\n",
        "A, B"
      ],
      "metadata": {
        "colab": {
          "base_uri": "https://localhost:8080/"
        },
        "id": "zTnBxZXermI2",
        "outputId": "e6217589-9844-4a18-d88c-fa3ae1f1e082"
      },
      "execution_count": 8,
      "outputs": [
        {
          "output_type": "execute_result",
          "data": {
            "text/plain": [
              "(<tf.Tensor: shape=(2, 3, 4), dtype=int32, numpy=\n",
              " array([[[ 1,  2,  3,  4],\n",
              "         [ 5,  6,  7,  8],\n",
              "         [ 9, 10, 11, 12]],\n",
              " \n",
              "        [[13, 14, 15, 16],\n",
              "         [17, 18, 19, 20],\n",
              "         [21, 22, 23, 24]]], dtype=int32)>,\n",
              " <tf.Tensor: shape=(24,), dtype=int32, numpy=\n",
              " array([ 1,  2,  3,  4,  5,  6,  7,  8,  9, 10, 11, 12, 13, 14, 15, 16, 17,\n",
              "        18, 19, 20, 21, 22, 23, 24], dtype=int32)>)"
            ]
          },
          "metadata": {},
          "execution_count": 8
        }
      ]
    },
    {
      "cell_type": "markdown",
      "source": [
        "### Getting information from tensors\n",
        "\n",
        "| Attribute | Meaning | Code |\n",
        "|---|---|---|\n",
        "| Shape | The lenght (number of elements) of each of the dimensions of a tensor | tensor.shape |\n",
        "| Rank | The number of tensor dimensions, A scalar has rank 0, a vector has rank 1, a matrix has a rank 2, a tensor has a rank n | tensor.ndim |\n",
        "| Axis or dimension | A particular dimension of a tensor | tensor[0], tensor[:, 1]... |\n",
        "| Size | Number of items in the tensor | tf.size(tensor) |"
      ],
      "metadata": {
        "id": "1aIzzV96tGHD"
      }
    },
    {
      "cell_type": "code",
      "source": [
        "# Create a rank 4 tensor (4 dimensions)\n",
        "rank_4_tensor = tf.zeros(shape=[2,3,4,5])\n",
        "rank_4_tensor"
      ],
      "metadata": {
        "colab": {
          "base_uri": "https://localhost:8080/"
        },
        "id": "uuNik4xitKZY",
        "outputId": "e3d12a96-0955-464e-b9d6-c7de4c41f731"
      },
      "execution_count": 9,
      "outputs": [
        {
          "output_type": "execute_result",
          "data": {
            "text/plain": [
              "<tf.Tensor: shape=(2, 3, 4, 5), dtype=float32, numpy=\n",
              "array([[[[0., 0., 0., 0., 0.],\n",
              "         [0., 0., 0., 0., 0.],\n",
              "         [0., 0., 0., 0., 0.],\n",
              "         [0., 0., 0., 0., 0.]],\n",
              "\n",
              "        [[0., 0., 0., 0., 0.],\n",
              "         [0., 0., 0., 0., 0.],\n",
              "         [0., 0., 0., 0., 0.],\n",
              "         [0., 0., 0., 0., 0.]],\n",
              "\n",
              "        [[0., 0., 0., 0., 0.],\n",
              "         [0., 0., 0., 0., 0.],\n",
              "         [0., 0., 0., 0., 0.],\n",
              "         [0., 0., 0., 0., 0.]]],\n",
              "\n",
              "\n",
              "       [[[0., 0., 0., 0., 0.],\n",
              "         [0., 0., 0., 0., 0.],\n",
              "         [0., 0., 0., 0., 0.],\n",
              "         [0., 0., 0., 0., 0.]],\n",
              "\n",
              "        [[0., 0., 0., 0., 0.],\n",
              "         [0., 0., 0., 0., 0.],\n",
              "         [0., 0., 0., 0., 0.],\n",
              "         [0., 0., 0., 0., 0.]],\n",
              "\n",
              "        [[0., 0., 0., 0., 0.],\n",
              "         [0., 0., 0., 0., 0.],\n",
              "         [0., 0., 0., 0., 0.],\n",
              "         [0., 0., 0., 0., 0.]]]], dtype=float32)>"
            ]
          },
          "metadata": {},
          "execution_count": 9
        }
      ]
    },
    {
      "cell_type": "code",
      "source": [
        "rank_4_tensor.shape, rank_4_tensor.ndim, tf.size(rank_4_tensor)"
      ],
      "metadata": {
        "colab": {
          "base_uri": "https://localhost:8080/"
        },
        "id": "Lwdzzqahv7YX",
        "outputId": "a0050fd8-6005-4a9e-84cd-8e4c5306d2f8"
      },
      "execution_count": 12,
      "outputs": [
        {
          "output_type": "execute_result",
          "data": {
            "text/plain": [
              "(TensorShape([2, 3, 4, 5]), 4, <tf.Tensor: shape=(), dtype=int32, numpy=120>)"
            ]
          },
          "metadata": {},
          "execution_count": 12
        }
      ]
    },
    {
      "cell_type": "code",
      "source": [
        "print(\"Datatype of every element: \", rank_4_tensor.dtype)\n",
        "print(\"Number of dimensions (rank): \", rank_4_tensor.ndim)\n",
        "print(\"Shape of tensor: \", rank_4_tensor.shape)\n",
        "print(\"Elements along the 0 axis: \", rank_4_tensor.shape[0])\n",
        "print(\"Elements of the last axis:\", rank_4_tensor.shape[-1])\n",
        "print(\"Total number of elements:\", tf.size(rank_4_tensor).numpy())"
      ],
      "metadata": {
        "colab": {
          "base_uri": "https://localhost:8080/"
        },
        "id": "QVmDGonpwnBc",
        "outputId": "2494a707-b606-4afe-fa63-182eeac6d3e4"
      },
      "execution_count": 17,
      "outputs": [
        {
          "output_type": "stream",
          "name": "stdout",
          "text": [
            "Datatype of every element:  <dtype: 'float32'>\n",
            "Number of dimensions (rank):  4\n",
            "Shape of tensor:  (2, 3, 4, 5)\n",
            "Elements along the 0 axis:  2\n",
            "Elements of the last axis: 5\n",
            "Total number of elements: 120\n"
          ]
        }
      ]
    }
  ]
}